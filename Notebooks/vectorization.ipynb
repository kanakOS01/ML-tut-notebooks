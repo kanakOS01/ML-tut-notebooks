{
 "cells": [
  {
   "cell_type": "markdown",
   "metadata": {},
   "source": [
    "# Vectorization\n",
    "<hr>"
   ]
  },
  {
   "cell_type": "code",
   "execution_count": 1,
   "metadata": {},
   "outputs": [],
   "source": [
    "import numpy as np\n",
    "import time\n",
    "import random"
   ]
  },
  {
   "cell_type": "code",
   "execution_count": 2,
   "metadata": {},
   "outputs": [
    {
     "name": "stdout",
     "output_type": "stream",
     "text": [
      "np.zeros(4) :  a = [0. 0. 0. 0.], a.shape = (4,), a data type = float64\n",
      "np.zeros(4, ) :  a = [0. 0. 0. 0.], a.shape = (4,), a data type = float64\n",
      "np.random.random_sample(4) :  a = [0.95404304 0.13744436 0.63223353 0.39737647], a.shape = (4,), a data type = float64\n"
     ]
    }
   ],
   "source": [
    "a = np.zeros(4)\n",
    "print(f\"np.zeros(4) :  a = {a}, a.shape = {a.shape}, a data type = {a.dtype}\")\n",
    "a = np.zeros((4, ))\n",
    "print(f\"np.zeros(4, ) :  a = {a}, a.shape = {a.shape}, a data type = {a.dtype}\")\n",
    "a = np.random.random_sample(4)\n",
    "print(f\"np.random.random_sample(4) :  a = {a}, a.shape = {a.shape}, a data type = {a.dtype}\")"
   ]
  },
  {
   "cell_type": "code",
   "execution_count": 3,
   "metadata": {},
   "outputs": [
    {
     "name": "stdout",
     "output_type": "stream",
     "text": [
      "np.arange(4) :  a = [0. 1. 2. 3.], a.shape = (4,), a data type = float64\n",
      "np.random.rand(4) :  a = [0.81701981 0.93990346 0.12458811 0.38960105], a.shape = (4,), a data type = float64\n"
     ]
    }
   ],
   "source": [
    "a = np.arange(4.)\n",
    "print(f\"np.arange(4) :  a = {a}, a.shape = {a.shape}, a data type = {a.dtype}\")\n",
    "a = np.random.rand(4)\n",
    "print(f\"np.random.rand(4) :  a = {a}, a.shape = {a.shape}, a data type = {a.dtype}\")"
   ]
  },
  {
   "cell_type": "markdown",
   "metadata": {},
   "source": [
    "## Operation on Vectors\n",
    "<hr>"
   ]
  },
  {
   "cell_type": "code",
   "execution_count": 4,
   "metadata": {},
   "outputs": [
    {
     "name": "stdout",
     "output_type": "stream",
     "text": [
      "[0 1 2 3 4 5 6 7 8 9]\n",
      "a[2] = 2, a[2].shape = ()\n",
      "a[-1] = 9\n",
      "Error: index 10 is out of bounds for axis 0 with size 10\n"
     ]
    }
   ],
   "source": [
    "a = np.arange(10)\n",
    "print(a)\n",
    "\n",
    "# Accessing element\n",
    "print(f\"a[2] = {a[2]}, a[2].shape = {a[2].shape}\")\n",
    "\n",
    "print(f\"a[-1] = {a[-1]}\")\n",
    "\n",
    "try:\n",
    "    c = a[10]\n",
    "except Exception as e:\n",
    "    print(f\"Error: {e}\")\n"
   ]
  },
  {
   "cell_type": "code",
   "execution_count": 5,
   "metadata": {},
   "outputs": [
    {
     "name": "stdout",
     "output_type": "stream",
     "text": [
      "[1 2 3 4]\n",
      "[-1 -2 -3 -4]\n",
      "10\n",
      "2.5\n",
      "[ 1  4  9 16]\n"
     ]
    }
   ],
   "source": [
    "a = np.array([1, 2, 3, 4])\n",
    "print(a) \n",
    "\n",
    "b = -a\n",
    "print(b)\n",
    "\n",
    "b = np.sum(a)\n",
    "print(b)\n",
    "\n",
    "b = np.mean(a)\n",
    "print(b)\n",
    "\n",
    "b = a ** 2\n",
    "print(b)"
   ]
  },
  {
   "cell_type": "code",
   "execution_count": 6,
   "metadata": {},
   "outputs": [
    {
     "name": "stdout",
     "output_type": "stream",
     "text": [
      "[0 0 6 8]\n",
      "[2 4 0 0]\n"
     ]
    }
   ],
   "source": [
    "a = np.array([1, 2, 3, 4])\n",
    "b = np.array([-1, -2, 3, 4])\n",
    "\n",
    "print(a + b)\n",
    "\n",
    "print(a - b)"
   ]
  },
  {
   "cell_type": "markdown",
   "metadata": {},
   "source": [
    "## Vector Dot Product\n",
    "<hr>"
   ]
  },
  {
   "cell_type": "code",
   "execution_count": 7,
   "metadata": {},
   "outputs": [],
   "source": [
    "def dot(a, b):\n",
    "    res = 0\n",
    "    for i in range(len(a)):\n",
    "        res += a[i] * b[i]\n",
    "\n",
    "    return res"
   ]
  },
  {
   "cell_type": "code",
   "execution_count": 8,
   "metadata": {},
   "outputs": [
    {
     "name": "stdout",
     "output_type": "stream",
     "text": [
      "dot(a, b) = 39\n",
      "np.dot(a, b) = 39\n"
     ]
    }
   ],
   "source": [
    "a = np.array([1, 2, 3, 4])\n",
    "b = np.array([1, 3, 4, 5])\n",
    "\n",
    "print(f\"dot(a, b) = {dot(a, b)}\")\n",
    "print(f\"np.dot(a, b) = {np.dot(a, b)}\")"
   ]
  },
  {
   "cell_type": "markdown",
   "metadata": {},
   "source": [
    "### Comparing speed\n",
    "<hr>"
   ]
  },
  {
   "cell_type": "code",
   "execution_count": 9,
   "metadata": {},
   "outputs": [
    {
     "ename": "KeyboardInterrupt",
     "evalue": "",
     "output_type": "error",
     "traceback": [
      "\u001b[0;31m---------------------------------------------------------------------------\u001b[0m",
      "\u001b[0;31mKeyboardInterrupt\u001b[0m                         Traceback (most recent call last)",
      "Cell \u001b[0;32mIn[9], line 6\u001b[0m\n\u001b[1;32m      3\u001b[0m b \u001b[38;5;241m=\u001b[39m np\u001b[38;5;241m.\u001b[39mrandom\u001b[38;5;241m.\u001b[39mrand(\u001b[38;5;241m100000000\u001b[39m)\n\u001b[1;32m      5\u001b[0m start \u001b[38;5;241m=\u001b[39m time\u001b[38;5;241m.\u001b[39mtime()     \u001b[38;5;66;03m# time.time() returns the current time in seconds since the epoch\u001b[39;00m\n\u001b[0;32m----> 6\u001b[0m \u001b[43mdot\u001b[49m\u001b[43m(\u001b[49m\u001b[43ma\u001b[49m\u001b[43m,\u001b[49m\u001b[43m \u001b[49m\u001b[43mb\u001b[49m\u001b[43m)\u001b[49m\n\u001b[1;32m      7\u001b[0m end \u001b[38;5;241m=\u001b[39m time\u001b[38;5;241m.\u001b[39mtime()\n\u001b[1;32m      9\u001b[0m \u001b[38;5;28mprint\u001b[39m(\u001b[38;5;124mf\u001b[39m\u001b[38;5;124m\"\u001b[39m\u001b[38;5;124mTime taken by dot(a, b) = \u001b[39m\u001b[38;5;132;01m{\u001b[39;00mend\u001b[38;5;250m \u001b[39m\u001b[38;5;241m-\u001b[39m\u001b[38;5;250m \u001b[39mstart\u001b[38;5;132;01m}\u001b[39;00m\u001b[38;5;124m\"\u001b[39m)\n",
      "Cell \u001b[0;32mIn[7], line 4\u001b[0m, in \u001b[0;36mdot\u001b[0;34m(a, b)\u001b[0m\n\u001b[1;32m      2\u001b[0m res \u001b[38;5;241m=\u001b[39m \u001b[38;5;241m0\u001b[39m\n\u001b[1;32m      3\u001b[0m \u001b[38;5;28;01mfor\u001b[39;00m i \u001b[38;5;129;01min\u001b[39;00m \u001b[38;5;28mrange\u001b[39m(\u001b[38;5;28mlen\u001b[39m(a)):\n\u001b[0;32m----> 4\u001b[0m     res \u001b[38;5;241m+\u001b[39m\u001b[38;5;241m=\u001b[39m a[i] \u001b[38;5;241m*\u001b[39m b[i]\n\u001b[1;32m      6\u001b[0m \u001b[38;5;28;01mreturn\u001b[39;00m res\n",
      "\u001b[0;31mKeyboardInterrupt\u001b[0m: "
     ]
    }
   ],
   "source": [
    "np.random.seed(0)\n",
    "a = np.random.rand(100000000)\n",
    "b = np.random.rand(100000000)\n",
    "\n",
    "start = time.time()     # time.time() returns the current time in seconds since the epoch\n",
    "dot(a, b)\n",
    "end = time.time()\n",
    "\n",
    "print(f\"Time taken by dot(a, b) = {end - start}\")\n",
    "\n",
    "start = time.time()\n",
    "np.dot(a, b)\n",
    "end = time.time()\n",
    "\n",
    "print(f\"Time taken by np.dot(a, b) = {end - start}\")"
   ]
  },
  {
   "cell_type": "code",
   "execution_count": 10,
   "metadata": {},
   "outputs": [
    {
     "name": "stdout",
     "output_type": "stream",
     "text": [
      "Average percent difference = 2727.3658020129124\n"
     ]
    }
   ],
   "source": [
    "def compare_speed():\n",
    "    np.random.seed(0)\n",
    "    n = random.randint(1000000, 5000000)\n",
    "\n",
    "    a = np.random.rand(n)\n",
    "    b = np.random.rand(n)\n",
    "\n",
    "    start = time.time()\n",
    "    dot(a, b)\n",
    "    end = time.time()\n",
    "    dot_time = start - end\n",
    "\n",
    "    start = time.time()\n",
    "    np.dot(a, b)\n",
    "    end = time.time()\n",
    "    np_dot_time = start - end\n",
    "\n",
    "    del a\n",
    "    del b\n",
    "\n",
    "    return dot_time, np_dot_time\n",
    "\n",
    "res_percent = 0\n",
    "for i in range(100):\n",
    "    dot_time, np_dot_time = compare_speed()\n",
    "    percent = (dot_time - np_dot_time) / np_dot_time * 100\n",
    "    res_percent += percent\n",
    "\n",
    "print(f\"Average percent difference = {res_percent / 1000}\")"
   ]
  },
  {
   "cell_type": "code",
   "execution_count": null,
   "metadata": {},
   "outputs": [],
   "source": []
  }
 ],
 "metadata": {
  "kernelspec": {
   "display_name": "env",
   "language": "python",
   "name": "python3"
  },
  "language_info": {
   "codemirror_mode": {
    "name": "ipython",
    "version": 3
   },
   "file_extension": ".py",
   "mimetype": "text/x-python",
   "name": "python",
   "nbconvert_exporter": "python",
   "pygments_lexer": "ipython3",
   "version": "3.12.3"
  }
 },
 "nbformat": 4,
 "nbformat_minor": 2
}
